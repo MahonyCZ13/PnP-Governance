{
    "metadata": {
        "kernelspec": {
            "name": "SQL",
            "display_name": "SQL",
            "language": "sql"
        },
        "language_info": {
            "name": "sql",
            "version": ""
        }
    },
    "nbformat_minor": 2,
    "nbformat": 4,
    "cells": [
        {
            "cell_type": "markdown",
            "source": [
                "# Basic configuration for database\n",
                "\n",
                "## Table creation\n",
                "\n",
                "For SharePoint property storage, we need to create table with necessary columns."
            ],
            "metadata": {
                "azdata_cell_guid": "ac24281b-5b2f-4ffe-8077-40538c07fbc4"
            },
            "attachments": {}
        },
        {
            "cell_type": "code",
            "source": [
                "CREATE TABLE sp_inventory (\r\n",
                "    id INT IDENTITY(1,1) PRIMARY KEY,\r\n",
                "    url VARCHAR(255) NOT NULL,\r\n",
                "    title VARCHAR(255) NOT NULL,\r\n",
                "    lockstate VARCHAR(20),\r\n",
                "    customScripts VARCHAR(20),\r\n",
                "    SPsiteTemplate VARCHAR(20),\r\n",
                "    SPSiteLocaleId VARCHAR(20),\r\n",
                "    storagePercentage FLOAT,\r\n",
                "    storageMB FLOAT,\r\n",
                "    appCatalog VARCHAR(20)\r\n",
                ");\r\n",
                ""
            ],
            "metadata": {
                "azdata_cell_guid": "dccb91a7-0918-4283-9baa-5c87efdd868a",
                "language": "sql",
                "tags": []
            },
            "outputs": [
                {
                    "output_type": "display_data",
                    "data": {
                        "text/html": "Commands completed successfully."
                    },
                    "metadata": {}
                },
                {
                    "output_type": "display_data",
                    "data": {
                        "text/html": "Total execution time: 00:00:00.112"
                    },
                    "metadata": {}
                }
            ],
            "execution_count": 12
        },
        {
            "cell_type": "markdown",
            "source": [
                "## Listing the data from a table\r\n",
                "\r\n",
                "to se the data from a table, run:"
            ],
            "metadata": {
                "azdata_cell_guid": "1c09693a-0a62-4e6b-b3da-c4c52271f910"
            },
            "attachments": {}
        },
        {
            "cell_type": "code",
            "source": [
                "SELECT TOP (1000) [id]\r\n",
                "      ,[url]\r\n",
                "      ,[title]\r\n",
                "      ,[lockstate]\r\n",
                "      ,[customScripts]\r\n",
                "      ,[SPsiteTemplate]\r\n",
                "      ,[SPSiteLocaleId]\r\n",
                "      ,[storagePercentage]\r\n",
                "      ,[storageMB]\r\n",
                "      ,[appCatalog]\r\n",
                "  FROM [dbo].[sp_inventory]"
            ],
            "metadata": {
                "azdata_cell_guid": "2a8e3a9e-3e77-4e84-a9b0-67d88bac88b0",
                "language": "sql"
            },
            "outputs": [
                {
                    "output_type": "display_data",
                    "data": {
                        "text/html": "(10 rows affected)"
                    },
                    "metadata": {}
                },
                {
                    "output_type": "display_data",
                    "data": {
                        "text/html": "Total execution time: 00:00:00.120"
                    },
                    "metadata": {}
                },
                {
                    "output_type": "execute_result",
                    "metadata": {},
                    "execution_count": 4,
                    "data": {
                        "application/vnd.dataresource+json": {
                            "schema": {
                                "fields": [
                                    {
                                        "name": "id"
                                    },
                                    {
                                        "name": "url"
                                    },
                                    {
                                        "name": "title"
                                    },
                                    {
                                        "name": "lockstate"
                                    },
                                    {
                                        "name": "customScripts"
                                    },
                                    {
                                        "name": "SPsiteTemplate"
                                    },
                                    {
                                        "name": "SPSiteLocaleId"
                                    },
                                    {
                                        "name": "storagePercentage"
                                    },
                                    {
                                        "name": "storageMB"
                                    },
                                    {
                                        "name": "appCatalog"
                                    }
                                ]
                            },
                            "data": [
                                {
                                    "id": "1",
                                    "url": "https://6055qx-my.sharepoint.com/",
                                    "title": "",
                                    "lockstate": "Unlock",
                                    "customScripts": "NULL",
                                    "SPsiteTemplate": "SPSMSITEHOST#0",
                                    "SPSiteLocaleId": "1033",
                                    "storagePercentage": "1,74",
                                    "storageMB": "0",
                                    "appCatalog": "NO"
                                },
                                {
                                    "id": "2",
                                    "url": "https://6055qx.sharepoint.com/",
                                    "title": "Communication site",
                                    "lockstate": "Unlock",
                                    "customScripts": "NULL",
                                    "SPsiteTemplate": "SitePagePublishing#0",
                                    "SPSiteLocaleId": "1033",
                                    "storagePercentage": "1,51",
                                    "storageMB": "0",
                                    "appCatalog": "NO"
                                },
                                {
                                    "id": "3",
                                    "url": "https://6055qx.sharepoint.com/search",
                                    "title": "",
                                    "lockstate": "Unlock",
                                    "customScripts": "NULL",
                                    "SPsiteTemplate": "SRCHCEN#0",
                                    "SPSiteLocaleId": "1033",
                                    "storagePercentage": "1,54",
                                    "storageMB": "0",
                                    "appCatalog": "NO"
                                },
                                {
                                    "id": "4",
                                    "url": "https://6055qx.sharepoint.com/sites/DigitalInitiativePublicRelations",
                                    "title": "Digital Initiative Public Relations",
                                    "lockstate": "Unlock",
                                    "customScripts": "NULL",
                                    "SPsiteTemplate": "GROUP#0",
                                    "SPSiteLocaleId": "1033",
                                    "storagePercentage": "1,45",
                                    "storageMB": "0",
                                    "appCatalog": "NO"
                                },
                                {
                                    "id": "5",
                                    "url": "https://6055qx.sharepoint.com/sites/GovernanceTesting",
                                    "title": "Governance Testing",
                                    "lockstate": "Unlock",
                                    "customScripts": "NULL",
                                    "SPsiteTemplate": "GROUP#0",
                                    "SPSiteLocaleId": "1033",
                                    "storagePercentage": "1,58",
                                    "storageMB": "0",
                                    "appCatalog": "NO"
                                },
                                {
                                    "id": "6",
                                    "url": "https://6055qx.sharepoint.com/sites/Mark8ProjectTeam",
                                    "title": "Mark 8 Project Team",
                                    "lockstate": "Unlock",
                                    "customScripts": "NULL",
                                    "SPsiteTemplate": "GROUP#0",
                                    "SPSiteLocaleId": "1033",
                                    "storagePercentage": "1,45",
                                    "storageMB": "0",
                                    "appCatalog": "NO"
                                },
                                {
                                    "id": "7",
                                    "url": "https://6055qx.sharepoint.com/sites/Retail",
                                    "title": "Retail",
                                    "lockstate": "Unlock",
                                    "customScripts": "NULL",
                                    "SPsiteTemplate": "GROUP#0",
                                    "SPSiteLocaleId": "1033",
                                    "storagePercentage": "1,45",
                                    "storageMB": "0",
                                    "appCatalog": "NO"
                                },
                                {
                                    "id": "8",
                                    "url": "https://6055qx.sharepoint.com/sites/SalesandMarketing",
                                    "title": "Sales and Marketing",
                                    "lockstate": "Unlock",
                                    "customScripts": "NULL",
                                    "SPsiteTemplate": "GROUP#0",
                                    "SPSiteLocaleId": "1033",
                                    "storagePercentage": "1,45",
                                    "storageMB": "0",
                                    "appCatalog": "NO"
                                },
                                {
                                    "id": "9",
                                    "url": "https://6055qx.sharepoint.com/sites/SampleTeamSite",
                                    "title": "Sample Team Site",
                                    "lockstate": "Unlock",
                                    "customScripts": "NULL",
                                    "SPsiteTemplate": "GROUP#0",
                                    "SPSiteLocaleId": "1033",
                                    "storagePercentage": "1,51",
                                    "storageMB": "0",
                                    "appCatalog": "NO"
                                },
                                {
                                    "id": "10",
                                    "url": "https://6055qx.sharepoint.com/sites/U.S.Sales",
                                    "title": "U.S. Sales",
                                    "lockstate": "Unlock",
                                    "customScripts": "NULL",
                                    "SPsiteTemplate": "GROUP#0",
                                    "SPSiteLocaleId": "1033",
                                    "storagePercentage": "1,45",
                                    "storageMB": "0",
                                    "appCatalog": "NO"
                                }
                            ]
                        },
                        "text/html": [
                            "<table>",
                            "<tr><th>id</th><th>url</th><th>title</th><th>lockstate</th><th>customScripts</th><th>SPsiteTemplate</th><th>SPSiteLocaleId</th><th>storagePercentage</th><th>storageMB</th><th>appCatalog</th></tr>",
                            "<tr><td>1</td><td>https://6055qx-my.sharepoint.com/</td><td></td><td>Unlock</td><td>NULL</td><td>SPSMSITEHOST#0</td><td>1033</td><td>1,74</td><td>0</td><td>NO</td></tr>",
                            "<tr><td>2</td><td>https://6055qx.sharepoint.com/</td><td>Communication site</td><td>Unlock</td><td>NULL</td><td>SitePagePublishing#0</td><td>1033</td><td>1,51</td><td>0</td><td>NO</td></tr>",
                            "<tr><td>3</td><td>https://6055qx.sharepoint.com/search</td><td></td><td>Unlock</td><td>NULL</td><td>SRCHCEN#0</td><td>1033</td><td>1,54</td><td>0</td><td>NO</td></tr>",
                            "<tr><td>4</td><td>https://6055qx.sharepoint.com/sites/DigitalInitiativePublicRelations</td><td>Digital Initiative Public Relations</td><td>Unlock</td><td>NULL</td><td>GROUP#0</td><td>1033</td><td>1,45</td><td>0</td><td>NO</td></tr>",
                            "<tr><td>5</td><td>https://6055qx.sharepoint.com/sites/GovernanceTesting</td><td>Governance Testing</td><td>Unlock</td><td>NULL</td><td>GROUP#0</td><td>1033</td><td>1,58</td><td>0</td><td>NO</td></tr>",
                            "<tr><td>6</td><td>https://6055qx.sharepoint.com/sites/Mark8ProjectTeam</td><td>Mark 8 Project Team</td><td>Unlock</td><td>NULL</td><td>GROUP#0</td><td>1033</td><td>1,45</td><td>0</td><td>NO</td></tr>",
                            "<tr><td>7</td><td>https://6055qx.sharepoint.com/sites/Retail</td><td>Retail</td><td>Unlock</td><td>NULL</td><td>GROUP#0</td><td>1033</td><td>1,45</td><td>0</td><td>NO</td></tr>",
                            "<tr><td>8</td><td>https://6055qx.sharepoint.com/sites/SalesandMarketing</td><td>Sales and Marketing</td><td>Unlock</td><td>NULL</td><td>GROUP#0</td><td>1033</td><td>1,45</td><td>0</td><td>NO</td></tr>",
                            "<tr><td>9</td><td>https://6055qx.sharepoint.com/sites/SampleTeamSite</td><td>Sample Team Site</td><td>Unlock</td><td>NULL</td><td>GROUP#0</td><td>1033</td><td>1,51</td><td>0</td><td>NO</td></tr>",
                            "<tr><td>10</td><td>https://6055qx.sharepoint.com/sites/U.S.Sales</td><td>U.S. Sales</td><td>Unlock</td><td>NULL</td><td>GROUP#0</td><td>1033</td><td>1,45</td><td>0</td><td>NO</td></tr>",
                            "</table>"
                        ]
                    }
                }
            ],
            "execution_count": 4
        },
        {
            "cell_type": "markdown",
            "source": [
                "## Reset table\r\n",
                "\r\n",
                "This script will reset the table"
            ],
            "metadata": {
                "azdata_cell_guid": "25be50b2-d005-4f37-afa9-63263b3298bc"
            },
            "attachments": {}
        },
        {
            "cell_type": "code",
            "source": [
                "DROP TABLE [dbo].[sp_inventory]"
            ],
            "metadata": {
                "azdata_cell_guid": "af3ded72-98fd-407e-adcf-30aeb08cdfa4",
                "language": "sql"
            },
            "outputs": [
                {
                    "output_type": "display_data",
                    "data": {
                        "text/html": "Commands completed successfully."
                    },
                    "metadata": {}
                },
                {
                    "output_type": "display_data",
                    "data": {
                        "text/html": "Total execution time: 00:00:00.134"
                    },
                    "metadata": {}
                }
            ],
            "execution_count": 11
        }
    ]
}