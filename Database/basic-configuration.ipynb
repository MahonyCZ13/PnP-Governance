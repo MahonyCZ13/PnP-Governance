{
    "metadata": {
        "kernelspec": {
            "name": "SQL",
            "display_name": "SQL",
            "language": "sql"
        },
        "language_info": {
            "name": "sql",
            "version": ""
        }
    },
    "nbformat_minor": 2,
    "nbformat": 4,
    "cells": [
        {
            "cell_type": "markdown",
            "source": [
                "# Basic configuration for database\n",
                "\n",
                "## Table creation\n",
                "\n",
                "For SharePoint property storage, we need to create table with necessary columns."
            ],
            "metadata": {
                "azdata_cell_guid": "ac24281b-5b2f-4ffe-8077-40538c07fbc4"
            },
            "attachments": {}
        },
        {
            "cell_type": "code",
            "source": [
                "CREATE TABLE sp_inventory (\r\n",
                "    id INT IDENTITY(1,1) PRIMARY KEY,\r\n",
                "    url VARCHAR(255) NOT NULL,\r\n",
                "    title VARCHAR(255) NOT NULL,\r\n",
                "    lockstate VARCHAR(20),\r\n",
                "    storage FLOAT\r\n",
                ");"
            ],
            "metadata": {
                "azdata_cell_guid": "dccb91a7-0918-4283-9baa-5c87efdd868a",
                "language": "sql"
            },
            "outputs": [
                {
                    "output_type": "display_data",
                    "data": {
                        "text/html": "Commands completed successfully."
                    },
                    "metadata": {}
                },
                {
                    "output_type": "display_data",
                    "data": {
                        "text/html": "Total execution time: 00:00:00.181"
                    },
                    "metadata": {}
                }
            ],
            "execution_count": 2
        }
    ]
}