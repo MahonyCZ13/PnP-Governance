{
    "metadata": {
        "kernelspec": {
            "name": "SQL",
            "display_name": "SQL",
            "language": "sql"
        },
        "language_info": {
            "name": "sql",
            "version": ""
        }
    },
    "nbformat_minor": 2,
    "nbformat": 4,
    "cells": [
        {
            "cell_type": "markdown",
            "source": [
                "# Basic configuration for database\n",
                "\n",
                "## Table creation\n",
                "\n",
                "For SharePoint property storage, we need to create table with necessary columns."
            ],
            "metadata": {
                "azdata_cell_guid": "ac24281b-5b2f-4ffe-8077-40538c07fbc4"
            },
            "attachments": {}
        },
        {
            "cell_type": "code",
            "source": [
                "CREATE TABLE sp_inventory (\r\n",
                "    id INT IDENTITY(1,1) PRIMARY KEY,\r\n",
                "    url VARCHAR(255) NOT NULL,\r\n",
                "    title VARCHAR(255) NOT NULL,\r\n",
                "    lockstate VARCHAR(20),\r\n",
                "    customScripts VARCHAR(20),\r\n",
                "    SPsiteTemplate VARCHAR(20),\r\n",
                "    SPSiteLocaleId VARCHAR(20),\r\n",
                "    storagePercentage FLOAT,\r\n",
                "    storageMB FLOAT,\r\n",
                "    appCatalog VARCHAR(20)\r\n",
                ");\r\n",
                ""
            ],
            "metadata": {
                "azdata_cell_guid": "dccb91a7-0918-4283-9baa-5c87efdd868a",
                "language": "sql",
                "tags": []
            },
            "outputs": [],
            "execution_count": null
        },
        {
            "cell_type": "markdown",
            "source": [
                "## Listing the data from a table\r\n",
                "\r\n",
                "to se the data from a table, run:"
            ],
            "metadata": {
                "azdata_cell_guid": "1c09693a-0a62-4e6b-b3da-c4c52271f910"
            },
            "attachments": {}
        },
        {
            "cell_type": "code",
            "source": [
                "SELECT TOP (1000) [id]\r\n",
                "      ,[url]\r\n",
                "      ,[title]\r\n",
                "      ,[lockstate]\r\n",
                "      ,[customScripts]\r\n",
                "      ,[SPsiteTemplate]\r\n",
                "      ,[SPSiteLocaleId]\r\n",
                "      ,[storagePercentage]\r\n",
                "      ,[storageMB]\r\n",
                "      ,[appCatalog]\r\n",
                "  FROM [dbo].[sp_inventory]"
            ],
            "metadata": {
                "azdata_cell_guid": "2a8e3a9e-3e77-4e84-a9b0-67d88bac88b0",
                "language": "sql"
            },
            "outputs": [],
            "execution_count": null
        },
        {
            "cell_type": "markdown",
            "source": [
                "## Reset table\r\n",
                "\r\n",
                "This script will reset the table"
            ],
            "metadata": {
                "azdata_cell_guid": "25be50b2-d005-4f37-afa9-63263b3298bc"
            },
            "attachments": {}
        },
        {
            "cell_type": "code",
            "source": [
                "DROP TABLE [dbo].[sp_inventory]"
            ],
            "metadata": {
                "azdata_cell_guid": "af3ded72-98fd-407e-adcf-30aeb08cdfa4",
                "language": "sql"
            },
            "outputs": [],
            "execution_count": null
        }
    ]
}